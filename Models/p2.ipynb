{
 "cells": [
  {
   "cell_type": "code",
   "execution_count": 1,
   "metadata": {},
   "outputs": [
    {
     "name": "stdout",
     "output_type": "stream",
     "text": [
      "\n",
      "image 1/1 c:\\Dchip\\PROJECTS\\InteliGreen\\InteliGreen\\Models\\canopy_img.png: 640x640 1 person, 7.2ms\n",
      "Speed: 4.1ms preprocess, 7.2ms inference, 135.7ms postprocess per image at shape (1, 3, 640, 640)\n"
     ]
    },
    {
     "data": {
      "text/plain": [
       "'output.jpg'"
      ]
     },
     "execution_count": 1,
     "metadata": {},
     "output_type": "execute_result"
    }
   ],
   "source": [
    "from ultralytics import YOLO\n",
    "# import cv2\n",
    "# Load Pretrained YOLOv8 Model\n",
    "model = YOLO('yolov8n.pt')  # You can use yolov8s.pt, yolov8m.pt, etc.\n",
    "\n",
    "# Load your image\n",
    "image_path = 'canopy_img.png'\n",
    "\n",
    "# Perform Object Detection\n",
    "results = model(image_path)\n",
    "\n",
    "# Show the image with detected objects\n",
    "results[0].show()\n",
    "\n",
    "# Optional: Save the output image\n",
    "results[0].save(filename='output.jpg')\n"
   ]
  }
 ],
 "metadata": {
  "kernelspec": {
   "display_name": "Python 3",
   "language": "python",
   "name": "python3"
  },
  "language_info": {
   "codemirror_mode": {
    "name": "ipython",
    "version": 3
   },
   "file_extension": ".py",
   "mimetype": "text/x-python",
   "name": "python",
   "nbconvert_exporter": "python",
   "pygments_lexer": "ipython3",
   "version": "3.11.9"
  }
 },
 "nbformat": 4,
 "nbformat_minor": 2
}
