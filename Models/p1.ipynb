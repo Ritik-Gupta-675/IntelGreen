{
 "cells": [
  {
   "cell_type": "code",
   "execution_count": 1,
   "metadata": {},
   "outputs": [
    {
     "name": "stdout",
     "output_type": "stream",
     "text": [
      "\u001b[1m1/1\u001b[0m \u001b[32m━━━━━━━━━━━━━━━━━━━━\u001b[0m\u001b[37m\u001b[0m \u001b[1m0s\u001b[0m 489ms/step\n",
      "[[0.5520719]]\n"
     ]
    }
   ],
   "source": [
    "from tensorflow.keras.utils import load_img, img_to_array\n",
    "import tensorflow as tf\n",
    "\n",
    "# Load the image\n",
    "image_path = 'canopy_img.png'\n",
    "image = load_img(image_path, target_size=(224, 224))\n",
    "\n",
    "# Convert the image to a NumPy array\n",
    "image_array = img_to_array(image)\n",
    "\n",
    "# Expand dimensions to match the model's input shape\n",
    "image_batch = tf.expand_dims(image_array, axis=0)\n",
    "\n",
    "# Normalize pixel values if required by your model\n",
    "image_normalized = image_batch / 255.0  # Adjust based on your model's requirements\n",
    "\n",
    "new_model = tf.keras.models.load_model('model.keras')\n",
    "print(1-new_model.predict(image_normalized))"
   ]
  }
 ],
 "metadata": {
  "kernelspec": {
   "display_name": "Python 3",
   "language": "python",
   "name": "python3"
  },
  "language_info": {
   "codemirror_mode": {
    "name": "ipython",
    "version": 3
   },
   "file_extension": ".py",
   "mimetype": "text/x-python",
   "name": "python",
   "nbconvert_exporter": "python",
   "pygments_lexer": "ipython3",
   "version": "3.11.9"
  }
 },
 "nbformat": 4,
 "nbformat_minor": 2
}
